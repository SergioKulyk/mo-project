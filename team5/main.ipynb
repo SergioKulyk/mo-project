{
 "cells": [
  {
   "cell_type": "code",
   "execution_count": 95,
   "metadata": {
    "collapsed": true
   },
   "outputs": [],
   "source": [
    "from lib5.Team5 import *\n",
    "from test.test_methods import *\n",
    "from utilities.Utilities import *"
   ]
  },
  {
   "cell_type": "code",
   "execution_count": 96,
   "metadata": {
    "collapsed": true
   },
   "outputs": [],
   "source": [
    "gol_name = \"Метод золотого перерізу\"\n",
    "tox_name = \"Метод хорд\"\n",
    "huc_name = \"Метод Хука-Дживса\"\n",
    "fgd_name = \"Найшвідшого градієнтного спуску\"\n",
    "mcv_name = \"Метод Макварада\"\n",
    "swr_name = \"Метод рою частинок\"\n"
   ]
  },
  {
   "cell_type": "code",
   "execution_count": 97,
   "metadata": {},
   "outputs": [
    {
     "name": "stdout",
     "output_type": "stream",
     "text": [
      "\n",
      "--------------------------------------------------\n",
      "Метод золотого перерізу\n",
      "\n",
      "x:    2.99999369099527\n",
      "f(x): -48.99999999964176\n",
      "iter: 24\n",
      "--------------------------------------------------\n"
     ]
    }
   ],
   "source": [
    "# Тест методу золотого перерізу\n",
    "a = -4\n",
    "b = 4\n",
    "\n",
    "golden_section_res = Team5.golden_section(a, b, f_gol_test)\n",
    "\n",
    "Utilities.print_res(gol_name, golden_section_res)"
   ]
  },
  {
   "cell_type": "code",
   "execution_count": 98,
   "metadata": {},
   "outputs": [
    {
     "name": "stdout",
     "output_type": "stream",
     "text": [
      "\n",
      "--------------------------------------------------\n",
      "Метод хорд\n",
      "\n",
      "x:    0.18542134117602574\n",
      "f(x): 0.404163083643\n",
      "iter: 2\n",
      "--------------------------------------------------\n"
     ]
    }
   ],
   "source": [
    "# Тест методу хорд\n",
    "a = -1\n",
    "b = 0\n",
    "eps = 10 ** -4\n",
    "\n",
    "toxins_res = Team5.toxins(a, b, f_tox_test, d_tox_test)\n",
    "\n",
    "Utilities.print_res(tox_name, toxins_res)"
   ]
  },
  {
   "cell_type": "code",
   "execution_count": 99,
   "metadata": {},
   "outputs": [
    {
     "name": "stdout",
     "output_type": "stream",
     "text": [
      "\n",
      "--------------------------------------------------\n",
      "Метод Хука-Дживса\n",
      "\n",
      "x:    [ 0.  0.]\n",
      "f(x): 136.0\n",
      "iter: 10\n",
      "--------------------------------------------------\n"
     ]
    }
   ],
   "source": [
    "# Тест методу Хука-Дживса\n",
    "x = np.array([1, 3])\n",
    "\n",
    "huca_jivsa_res = Team5.huca_jivsa(x, f_huc_test)\n",
    "\n",
    "Utilities.print_res(huc_name, huca_jivsa_res)"
   ]
  },
  {
   "cell_type": "code",
   "execution_count": 100,
   "metadata": {},
   "outputs": [
    {
     "name": "stdout",
     "output_type": "stream",
     "text": [
      "\n",
      "--------------------------------------------------\n",
      "Найшвідшого градієнтного спуску\n",
      "\n",
      "x:    [ 0.38457803 -0.19230414]\n",
      "f(x): -0.48076922969\n",
      "iter: 12\n",
      "--------------------------------------------------\n"
     ]
    }
   ],
   "source": [
    "# Тест методу найшвідшого градієнтного спуску\n",
    "x = np.array([0., 1.])\n",
    "\n",
    "faster_gradient_descent_res = Team5.faster_gradient_descent(x, f_fgd_test)\n",
    "\n",
    "Utilities.print_res(fgd_name, faster_gradient_descent_res)"
   ]
  },
  {
   "cell_type": "code",
   "execution_count": 101,
   "metadata": {},
   "outputs": [
    {
     "name": "stdout",
     "output_type": "stream",
     "text": [
      "\n",
      "--------------------------------------------------\n",
      "Метод Макварада\n",
      "\n",
      "x:    [ 5.  6.]\n",
      "f(x): 0.0\n",
      "iter: 17\n",
      "--------------------------------------------------\n"
     ]
    }
   ],
   "source": [
    "# Тест методу Макварада\n",
    "x0 = np.array([8., 9.])\n",
    "\n",
    "mcvard_res = Team5.mcvard(x0, f_huc_test)\n",
    "\n",
    "Utilities.print_res(mcv_name, mcvard_res)"
   ]
  },
  {
   "cell_type": "code",
   "execution_count": 102,
   "metadata": {},
   "outputs": [
    {
     "name": "stdout",
     "output_type": "stream",
     "text": [
      "\n",
      "--------------------------------------------------\n",
      "Метод рою частинок\n",
      "\n",
      "x:    -0.480769092011\n",
      "f(x): [ 0.38493517 -0.19228563]\n",
      "iter: 51\n",
      "--------------------------------------------------\n"
     ]
    }
   ],
   "source": [
    "# Тест методу рою частинок\n",
    "s = 40\n",
    "d = 2\n",
    "\n",
    "swarm_parties_res = Team5.swarm_parties(s, d, f_swr_test)\n",
    "\n",
    "Utilities.print_res(swr_name, swarm_parties_res)"
   ]
  },
  {
   "cell_type": "code",
   "execution_count": null,
   "metadata": {
    "collapsed": true
   },
   "outputs": [],
   "source": []
  }
 ],
 "metadata": {
  "kernelspec": {
   "display_name": "Python 3",
   "language": "python",
   "name": "python3"
  },
  "language_info": {
   "codemirror_mode": {
    "name": "ipython",
    "version": 3
   },
   "file_extension": ".py",
   "mimetype": "text/x-python",
   "name": "python",
   "nbconvert_exporter": "python",
   "pygments_lexer": "ipython3",
   "version": "3.6.1"
  }
 },
 "nbformat": 4,
 "nbformat_minor": 2
}
